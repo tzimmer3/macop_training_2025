{
 "cells": [
  {
   "attachments": {},
   "cell_type": "markdown",
   "metadata": {},
   "source": [
    "# Embeddings Tutorial"
   ]
  },
  {
   "attachments": {},
   "cell_type": "markdown",
   "metadata": {},
   "source": [
    "This notebook picks apart various properties of tokenization and using a model to embed some text.   It can be used to understand the inner workings a little better."
   ]
  },
  {
   "cell_type": "code",
   "execution_count": 1,
   "metadata": {},
   "outputs": [],
   "source": [
    "# Import Packages\n",
    "import pandas as pd\n",
    "import seaborn as sns\n",
    "\n",
    "from transformers import AutoTokenizer\n",
    "from sentence_transformers import SentenceTransformer\n",
    "from sklearn.metrics.pairwise import cosine_similarity"
   ]
  },
  {
   "cell_type": "code",
   "execution_count": 2,
   "metadata": {},
   "outputs": [],
   "source": [
    "sentences = [\n",
    "    \"I went down to the bakery for a pie.\",   # 0\n",
    "    \"I went to Paris for a croissant.\",       # 1\n",
    "    \"I went to paris for a croissant.\",       # 2\n",
    "    \"I went to CDG for a croissant.\",         # 3 (CDG: Charles de Gaulle airport in Paris)\n",
    "    \"Should I eat one more bite?\",            # 4\n",
    "    \"I went to France for a croissant.\",      # 5\n",
    "    \"I went to Paris for 100 croissants.\",    # 6\n",
    "    \"I went to Paris for 10000 croissants.\",  # 7\n",
    "    \"I went to Paris for 1000000 croissants.\" # 8\n",
    "]"
   ]
  },
  {
   "cell_type": "markdown",
   "metadata": {},
   "source": [
    "## Tokenization"
   ]
  },
  {
   "cell_type": "markdown",
   "metadata": {},
   "source": [
    "Large Language models use a different style of tokenization than what we have seen so far.  It is used when the words get long or complicated.  These newer tokenizers break words into what are called word parts.  \n",
    "\n",
    "This ensures that the 'dictionary' of words the model understands does not grow exponentially AND ensures that new words that the model has not seen before can be properly handled.\n",
    "\n",
    "- ex. 'croissants' gets broken into 3 separate word parts - 'cro', 'iss', 'ants' (seen below)\n",
    "\n",
    "\n",
    "For this lecture, we are focusing on an older style of tokenizer that chooses to tokenize a word based on there being white space before and after it."
   ]
  },
  {
   "cell_type": "code",
   "execution_count": 3,
   "metadata": {},
   "outputs": [
    {
     "name": "stdout",
     "output_type": "stream",
     "text": [
      "         Loading RoBERTa tokenizer...\n"
     ]
    }
   ],
   "source": [
    "def tokenize_sentence(tokenizer, index):\n",
    "    print(\"         Loading sentence...\")\n",
    "    # Print the original sentence.\n",
    "    print(' Original: ', sentences[index])\n",
    "    # Print the sentence split into tokens.\n",
    "    print('Tokenized: ', tokenizer.tokenize(sentences[index]))\n",
    "    # Print the sentence mapped to token ids.\n",
    "    print('Token IDs: ', tokenizer.convert_tokens_to_ids(tokenizer.tokenize(sentences[index])))\n",
    "\n",
    "# Load the RoBERTa tokenizer.\n",
    "print('         Loading RoBERTa tokenizer...')\n",
    "tokenizer = AutoTokenizer.from_pretrained('roberta-base', do_lower_case=True)"
   ]
  },
  {
   "cell_type": "markdown",
   "metadata": {},
   "source": [
    "## Tokenization: case sensitivity"
   ]
  },
  {
   "cell_type": "code",
   "execution_count": 4,
   "metadata": {},
   "outputs": [
    {
     "name": "stdout",
     "output_type": "stream",
     "text": [
      "         Loading sentence...\n",
      " Original:  I went to Paris for a croissant.\n",
      "Tokenized:  ['I', 'Ġwent', 'Ġto', 'ĠParis', 'Ġfor', 'Ġa', 'Ġcro', 'iss', 'ant', '.']\n",
      "Token IDs:  [100, 439, 7, 2201, 13, 10, 11398, 3006, 927, 4]\n",
      "         Loading sentence...\n",
      " Original:  I went to paris for a croissant.\n",
      "Tokenized:  ['I', 'Ġwent', 'Ġto', 'Ġpar', 'is', 'Ġfor', 'Ġa', 'Ġcro', 'iss', 'ant', '.']\n",
      "Token IDs:  [100, 439, 7, 2242, 354, 13, 10, 11398, 3006, 927, 4]\n"
     ]
    }
   ],
   "source": [
    "sentence_1_index = 1\n",
    "sentence_2_index = 2\n",
    "\n",
    "tokenize_sentence(tokenizer, sentence_1_index)\n",
    "tokenize_sentence(tokenizer, sentence_2_index)"
   ]
  },
  {
   "attachments": {},
   "cell_type": "markdown",
   "metadata": {},
   "source": [
    "Take a look at how the word \"Paris\" is broken into word parts given its uppercase P in sentence[1] and lowercase p in sentence[2]\n",
    "\n",
    "The word is broken into 2 word parts with paris vs 1 word part with Paris.  The defined vocabulary for the tokenizer is aware of the latter, but has to break down the former to derive meaning from the word.\n",
    "\n",
    "This has implications on proper nouns (which should be capitalized) and informal text such as tweets where case is traditionally disregarded."
   ]
  },
  {
   "attachments": {},
   "cell_type": "markdown",
   "metadata": {},
   "source": [
    "## Tokenization: Numbers"
   ]
  },
  {
   "cell_type": "code",
   "execution_count": 5,
   "metadata": {},
   "outputs": [
    {
     "name": "stdout",
     "output_type": "stream",
     "text": [
      "         Loading sentence...\n",
      " Original:  I went to Paris for 100 croissants.\n",
      "Tokenized:  ['I', 'Ġwent', 'Ġto', 'ĠParis', 'Ġfor', 'Ġ100', 'Ġcro', 'iss', 'ants', '.']\n",
      "Token IDs:  [100, 439, 7, 2201, 13, 727, 11398, 3006, 3277, 4]\n",
      "         Loading sentence...\n",
      " Original:  I went to Paris for 1000000 croissants.\n",
      "Tokenized:  ['I', 'Ġwent', 'Ġto', 'ĠParis', 'Ġfor', 'Ġ100', '0000', 'Ġcro', 'iss', 'ants', '.']\n",
      "Token IDs:  [100, 439, 7, 2201, 13, 727, 14200, 11398, 3006, 3277, 4]\n"
     ]
    }
   ],
   "source": [
    "sentence_1_index = 6\n",
    "sentence_2_index = 8\n",
    "\n",
    "tokenize_sentence(tokenizer, sentence_1_index)\n",
    "tokenize_sentence(tokenizer, sentence_2_index)"
   ]
  },
  {
   "attachments": {},
   "cell_type": "markdown",
   "metadata": {},
   "source": [
    "Here we are trying to understand if the model can derive meaning from numbers."
   ]
  },
  {
   "attachments": {},
   "cell_type": "markdown",
   "metadata": {},
   "source": [
    "## Tokenization: Acronyms"
   ]
  },
  {
   "cell_type": "code",
   "execution_count": 6,
   "metadata": {},
   "outputs": [
    {
     "name": "stdout",
     "output_type": "stream",
     "text": [
      "         Loading sentence...\n",
      " Original:  I went to CDG for a croissant.\n",
      "Tokenized:  ['I', 'Ġwent', 'Ġto', 'ĠCD', 'G', 'Ġfor', 'Ġa', 'Ġcro', 'iss', 'ant', '.']\n",
      "Token IDs:  [100, 439, 7, 7522, 534, 13, 10, 11398, 3006, 927, 4]\n"
     ]
    }
   ],
   "source": [
    "sentence_1_index = 3\n",
    "\n",
    "tokenize_sentence(tokenizer, sentence_1_index)"
   ]
  },
  {
   "attachments": {},
   "cell_type": "markdown",
   "metadata": {},
   "source": [
    "# Testing out tokenizing on acronyms"
   ]
  },
  {
   "attachments": {},
   "cell_type": "markdown",
   "metadata": {},
   "source": [
    "# Embedding Similarity"
   ]
  },
  {
   "cell_type": "code",
   "execution_count": 7,
   "metadata": {},
   "outputs": [],
   "source": [
    "# Load SentenceBERT model from Hugging Face website\n",
    "model = SentenceTransformer('sentence-transformers/all-MiniLM-L6-v2')\n",
    "\n",
    "# Generate embeddings from text\n",
    "embeddings = model.encode(sentences)\n",
    "\n",
    "# Calculate cosine similarity across the corpus\n",
    "similarity_scores = cosine_similarity(embeddings)"
   ]
  },
  {
   "cell_type": "markdown",
   "metadata": {},
   "source": [
    "## Visualize Similarity Results"
   ]
  },
  {
   "cell_type": "code",
   "execution_count": 8,
   "metadata": {},
   "outputs": [
    {
     "name": "stdout",
     "output_type": "stream",
     "text": [
      "Sentences:\n",
      "sentence[0]: I went down to the bakery for a pie.\n",
      "sentence[1]: I went to Paris for a croissant.\n",
      "sentence[2]: I went to paris for a croissant.\n",
      "sentence[3]: I went to CDG for a croissant.\n",
      "sentence[4]: Should I eat one more bite?\n",
      "sentence[5]: I went to France for a croissant.\n",
      "sentence[6]: I went to Paris for 100 croissants.\n",
      "sentence[7]: I went to Paris for 10000 croissants.\n",
      "sentence[8]: I went to Paris for 1000000 croissants.\n",
      "\n",
      "Similarity Scores:\n"
     ]
    },
    {
     "data": {
      "text/plain": [
       "<Axes: >"
      ]
     },
     "execution_count": 8,
     "metadata": {},
     "output_type": "execute_result"
    },
    {
     "data": {
      "image/png": "[encoded data removed]",
      "text/plain": [
       "<Figure size 640x480 with 2 Axes>"
      ]
     },
     "metadata": {},
     "output_type": "display_data"
    }
   ],
   "source": [
    "# Show sentences\n",
    "print(\"Sentences:\")\n",
    "for i in range(0,len(sentences)):\n",
    "    print(f\"sentence[{i}]: {sentences[i]}\")\n",
    "\n",
    "# Add some space\n",
    "print(\"\")\n",
    "print(\"Similarity Scores:\")\n",
    "# Show sentence similarities\n",
    "import numpy as np\n",
    "matrix = np.triu(similarity_scores)\n",
    "sns.heatmap(similarity_scores, cmap=\"Purples_r\",annot=True, mask=matrix)"
   ]
  },
  {
   "attachments": {},
   "cell_type": "markdown",
   "metadata": {},
   "source": [
    "### Results from Embedding Similarity\n",
    "Purposefully have lots of overlap across sentences.  \n",
    "\n",
    "- Take a look at --> <b>sentences[2] and sentences[3]</b>.  The only difference is how the city Paris is handled.  Their similarity is ranked at 100% even though paris is broken into two word parts vs one word part.\n",
    "\n",
    "- Given that <b>sentences[2] and sentences[3]</b> are 100% similar, consider their columns  (they are identical).  [Conclude] The relationship of similarity is bi-directional.  \n"
   ]
  },
  {
   "cell_type": "markdown",
   "metadata": {},
   "source": []
  }
 ],
 "metadata": {
  "kernelspec": {
   "display_name": "nlp_testing",
   "language": "python",
   "name": "python3"
  },
  "language_info": {
   "codemirror_mode": {
    "name": "ipython",
    "version": 3
   },
   "file_extension": ".py",
   "mimetype": "text/x-python",
   "name": "python",
   "nbconvert_exporter": "python",
   "pygments_lexer": "ipython3",
   "version": "3.9.5"
  },
  "orig_nbformat": 4
 },
 "nbformat": 4,
 "nbformat_minor": 2
}
