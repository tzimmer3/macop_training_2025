{
 "cells": [
  {
   "cell_type": "code",
   "execution_count": null,
   "metadata": {},
   "outputs": [],
   "source": [
    "# ! pip install nltk"
   ]
  },
  {
   "cell_type": "code",
   "execution_count": null,
   "metadata": {},
   "outputs": [
    {
     "name": "stderr",
     "output_type": "stream",
     "text": [
      "[nltk_data] Downloading package punkt_tab to\n",
      "[nltk_data]     C:\\Users\\hlmq\\AppData\\Roaming\\nltk_data...\n",
      "[nltk_data]   Package punkt_tab is already up-to-date!\n",
      "[nltk_data] Downloading package wordnet to\n",
      "[nltk_data]     C:\\Users\\hlmq\\AppData\\Roaming\\nltk_data...\n",
      "[nltk_data]   Package wordnet is already up-to-date!\n"
     ]
    },
    {
     "data": {
      "text/plain": [
       "True"
      ]
     },
     "execution_count": 1,
     "metadata": {},
     "output_type": "execute_result"
    }
   ],
   "source": [
    "# Import packages\n",
    "import numpy as np\n",
    "import pandas as pd\n",
    "import matplotlib.pyplot as plt\n",
    "\n",
    "# Analytics/Metrics\n",
    "from sklearn.feature_extraction.text import CountVectorizer\n",
    "from src.functions import write_target_descriptive_categories, create_word_frequency_table\n",
    "\n",
    "# Data Cleaning\n",
    "import nltk\n",
    "from nltk.stem import WordNetLemmatizer, PorterStemmer\n",
    "nltk.download('punkt_tab')\n",
    "nltk.download('wordnet')"
   ]
  },
  {
   "cell_type": "markdown",
   "metadata": {},
   "source": [
    "## Variables"
   ]
  },
  {
   "cell_type": "code",
   "execution_count": 2,
   "metadata": {},
   "outputs": [],
   "source": [
    "# Variables\n",
    "\n",
    "# Input data filepath\n",
    "RAW_DIRNAME = \"data/\"\n",
    "# Input data\n",
    "filename = \"downsampled_dataset.csv\"\n",
    "\n",
    "# Output filepath\n",
    "OUTPUT_DIRNAME = \"data/\"\n",
    "OUTPUT_FILENAME = \"wordcloud_data.csv\""
   ]
  },
  {
   "cell_type": "code",
   "execution_count": 3,
   "metadata": {},
   "outputs": [],
   "source": [
    "# Read in data\n",
    "df = pd.read_csv(str(RAW_DIRNAME)+str(filename))"
   ]
  },
  {
   "cell_type": "markdown",
   "metadata": {},
   "source": [
    "## String Cleaning"
   ]
  },
  {
   "cell_type": "code",
   "execution_count": 4,
   "metadata": {},
   "outputs": [],
   "source": [
    "# List of stopwords.  Add any words you would like to clean from your dataset.\n",
    "newStopWords = ['ourselves', 'here', 'between', 'yourself', 'but', 'again', 'there', 'about', 'once', 'during', 'out', 'very', 'having', \n",
    "                'with', 'they', 'own', 'an', 'be', 'some', 'for', 'do', 'its', 'yours', 'such', 'into', 'of', 'most', 'itself', 'other', \n",
    "                'off', 'is', 's', 'am', 'or', 'who', 'as', 'from', 'him', 'each', 'the', 'themselves', 'until', 'below', 'are', 'we', \n",
    "                'these', 'your', 'his', 'through', 'don', 'nor', 'me', 'were', 'her', 'more', 'himself', 'this', 'down', 'should', \n",
    "                'our', 'their', 'while', 'above', 'both', 'up', 'to', 'ours', 'had', 'she', 'all', 'no', 'when', 'at', 'any', 'before', \n",
    "                'them', 'same', 'and', 'been', 'have', 'in', 'will', 'on', 'does', 'yourselves', 'then', 'that', 'because', 'what', \n",
    "                'over', 'why', 'so', 'can', 'did', 'not', 'now', 'under', 'he', 'you', 'herself', 'has', 'just', 'where', 'too', 'only', \n",
    "                'myself', 'which', 'those', 'i', 'I','after', 'few', 'whom', 'being', 'if', 'theirs', 'my', 'against','a', 'by', 'doing', \n",
    "                'it', 'how', 'further', 'was', 'here','than','can', 'let', 'll', 'that',\n",
    "                # Chevron specific items added below:\n",
    "                \"chevron\", \"technology\", \"technologies\", \"team\", \"project\", \"technology\", \"’\", \".\", \"use\", \",\", \"identify\", \"case\", \"study\"\n",
    "                \n",
    "               ]"
   ]
  },
  {
   "cell_type": "code",
   "execution_count": 5,
   "metadata": {},
   "outputs": [],
   "source": [
    "ps=PorterStemmer()\n",
    "lemmatizer = WordNetLemmatizer()\n",
    "\n",
    "# Lowercase words\n",
    "df['clean_title'] = df['TITLE'].apply(lambda x: x.lower() if isinstance(x, str) else x)\n",
    "# Remove stopwords\n",
    "df['clean_title'] = df['clean_title'].apply(lambda x: ' '.join([word for word in x.split() if word not in (newStopWords)]))\n",
    "# Tokenize\n",
    "df['clean_title'] = df['clean_title'].apply(nltk.word_tokenize)\n",
    "# Lemmatize\n",
    "df['clean_title'] = df['clean_title'].apply(lambda x: ' '.join([lemmatizer.lemmatize(word, pos='v') for word in x]))\n",
    "# Remove stopwords\n",
    "df['clean_title'] = df['clean_title'].apply(lambda x: ' '.join([word for word in x.split() if word not in (newStopWords)]))"
   ]
  },
  {
   "cell_type": "code",
   "execution_count": 6,
   "metadata": {},
   "outputs": [
    {
     "data": {
      "text/plain": [
       "Descriptive Category\n",
       "Science.Technology    30224\n",
       "Business              22666\n",
       "Health                16117\n",
       "Entertainment         15477\n",
       "Name: count, dtype: int64"
      ]
     },
     "execution_count": 6,
     "metadata": {},
     "output_type": "execute_result"
    }
   ],
   "source": [
    "df['CATEGORY'].value_counts()\n",
    "df['Descriptive Category'] = df['CATEGORY'].apply(lambda x: write_target_descriptive_categories(x))\n",
    "df['Descriptive Category'].value_counts()"
   ]
  },
  {
   "cell_type": "code",
   "execution_count": 8,
   "metadata": {},
   "outputs": [],
   "source": [
    "# Output filepath\n",
    "\n",
    "toggle = list(df['Descriptive Category'].unique())[3]                  # ['Entertainment', 'Business', 'Health', 'Science/Technology']\n",
    "\n",
    "WordFreq = create_word_frequency_table(df, category=toggle)\n",
    "\n",
    "# Save to csv\n",
    "OUTPUT_DIRNAME = \"data/\"\n",
    "OUTPUT_FILENAME = f\"{toggle}_wordcloud_data.csv\"\n",
    "WordFreq.to_csv(str(OUTPUT_DIRNAME)+str(OUTPUT_FILENAME),index=False)"
   ]
  },
  {
   "cell_type": "markdown",
   "metadata": {},
   "source": [
    "## Check Word Counts"
   ]
  },
  {
   "cell_type": "code",
   "execution_count": 9,
   "metadata": {},
   "outputs": [
    {
     "data": {
      "text/plain": [
       "Text(0.5, 1.0, 'Most Common Words')"
      ]
     },
     "execution_count": 9,
     "metadata": {},
     "output_type": "execute_result"
    },
    {
     "data": {
      "image/png": "[encoded data removed]",
      "text/plain": [
       "<Figure size 500x500 with 1 Axes>"
      ]
     },
     "metadata": {},
     "output_type": "display_data"
    }
   ],
   "source": [
    "# Plot horizontal bar graph\n",
    "fig, ax = plt.subplots(figsize=(5, 5))\n",
    "WordFreq.sort_values(by='Frequency').plot.barh(\n",
    "                  x='Word',\n",
    "                  y='Frequency',\n",
    "                  ax=ax,\n",
    "                  color=\"deepskyblue\")\n",
    "\n",
    "# COLORS: darkred, goldenrod, forestgreen, deepskyblue, rebeccapurple\n",
    "\n",
    "plt.title(\"Most Common Words\")"
   ]
  },
  {
   "cell_type": "markdown",
   "metadata": {},
   "source": [
    "## Write out files"
   ]
  },
  {
   "cell_type": "code",
   "execution_count": null,
   "metadata": {},
   "outputs": [],
   "source": [
    "WordFreq.to_csv(str(OUTPUT_DIRNAME)+str(OUTPUT_FILENAME),index=False)"
   ]
  }
 ],
 "metadata": {
  "kernelspec": {
   "display_name": ".venv",
   "language": "python",
   "name": "python3"
  },
  "language_info": {
   "codemirror_mode": {
    "name": "ipython",
    "version": 3
   },
   "file_extension": ".py",
   "mimetype": "text/x-python",
   "name": "python",
   "nbconvert_exporter": "python",
   "pygments_lexer": "ipython3",
   "version": "3.12.9"
  },
  "orig_nbformat": 4
 },
 "nbformat": 4,
 "nbformat_minor": 2
}
