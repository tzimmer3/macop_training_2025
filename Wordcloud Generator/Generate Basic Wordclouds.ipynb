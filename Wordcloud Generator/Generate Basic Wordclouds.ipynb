{
 "cells": [
  {
   "cell_type": "code",
   "execution_count": 1,
   "metadata": {},
   "outputs": [
    {
     "ename": "ModuleNotFoundError",
     "evalue": "No module named 'matplotlib'",
     "output_type": "error",
     "traceback": [
      "\u001b[1;31m---------------------------------------------------------------------------\u001b[0m",
      "\u001b[1;31mModuleNotFoundError\u001b[0m                       Traceback (most recent call last)",
      "Cell \u001b[1;32mIn[1], line 4\u001b[0m\n\u001b[0;32m      2\u001b[0m \u001b[38;5;28;01mimport\u001b[39;00m \u001b[38;5;21;01mos\u001b[39;00m\n\u001b[0;32m      3\u001b[0m \u001b[38;5;28;01mimport\u001b[39;00m \u001b[38;5;21;01mnumpy\u001b[39;00m \u001b[38;5;28;01mas\u001b[39;00m \u001b[38;5;21;01mnp\u001b[39;00m\n\u001b[1;32m----> 4\u001b[0m \u001b[38;5;28;01mimport\u001b[39;00m \u001b[38;5;21;01mmatplotlib\u001b[39;00m\u001b[38;5;21;01m.\u001b[39;00m\u001b[38;5;21;01mpyplot\u001b[39;00m \u001b[38;5;28;01mas\u001b[39;00m \u001b[38;5;21;01mplt\u001b[39;00m\n\u001b[0;32m      6\u001b[0m \u001b[38;5;66;03m# Analytics/Metrics\u001b[39;00m\n\u001b[0;32m      7\u001b[0m \u001b[38;5;28;01mfrom\u001b[39;00m \u001b[38;5;21;01msklearn\u001b[39;00m\u001b[38;5;21;01m.\u001b[39;00m\u001b[38;5;21;01mfeature_extraction\u001b[39;00m\u001b[38;5;21;01m.\u001b[39;00m\u001b[38;5;21;01mtext\u001b[39;00m \u001b[38;5;28;01mimport\u001b[39;00m CountVectorizer\n",
      "\u001b[1;31mModuleNotFoundError\u001b[0m: No module named 'matplotlib'"
     ]
    }
   ],
   "source": [
    "# Import packages\n",
    "import os\n",
    "import numpy as np\n",
    "import matplotlib.pyplot as plt\n",
    "\n",
    "# Analytics/Metrics\n",
    "from sklearn.feature_extraction.text import CountVectorizer\n",
    "import pandas as pd\n",
    "from wordcloud import WordCloud\n",
    "\n",
    "# Colormap\n",
    "import matplotlib.colors"
   ]
  },
  {
   "cell_type": "code",
   "execution_count": null,
   "metadata": {},
   "outputs": [],
   "source": [
    "# variables\n",
    "\n",
    "#=========================#\n",
    "# data\n",
    "#=========================#\n",
    "\n",
    "# Input data filepath\n",
    "RAW_DIRNAME = \"C:\\\\Users\\\\hlmq\\\\OneDrive - Chevron\\\\Desktop\\\\Projects\\\\macop_training\\\\\"\n",
    "# Input data\n",
    "filename = \"uci-news-aggregator.csv\"\n",
    "\n",
    "\n",
    "#=========================#\n",
    "# wordcloud params\n",
    "#=========================#\n",
    "\n",
    "# Field with text to generate wordcloud\n",
    "TEXT_FIELD = \"TITLE\"\n",
    "# Output filepath for wordcloud\n",
    "WORDCLOUD_OUTPUT_FILEPATH = \"C:\\\\Users\\\\hlmq\\\\OneDrive - Chevron\\\\Desktop\\\\Projects\\\\macop_training\\\\wordclouds\\\\news.png\""
   ]
  },
  {
   "cell_type": "code",
   "execution_count": null,
   "metadata": {},
   "outputs": [],
   "source": [
    "df = pd.read_csv(str(RAW_DIRNAME)+str(filename))"
   ]
  },
  {
   "cell_type": "code",
   "execution_count": null,
   "metadata": {},
   "outputs": [],
   "source": [
    "len(df)"
   ]
  },
  {
   "cell_type": "code",
   "execution_count": null,
   "metadata": {},
   "outputs": [],
   "source": [
    "df.head()"
   ]
  },
  {
   "cell_type": "code",
   "execution_count": null,
   "metadata": {},
   "outputs": [],
   "source": [
    "df['CATEGORY'].value_counts()"
   ]
  },
  {
   "cell_type": "markdown",
   "metadata": {},
   "source": [
    "## Word Frequencies"
   ]
  },
  {
   "cell_type": "code",
   "execution_count": null,
   "metadata": {},
   "outputs": [],
   "source": [
    "# Custom data to create a word cloud\n",
    "words_list = ['embedding', 'language model', 'semantic', 'token', 'words', 'meaning', 'doc2vec', 'word2vec', 'fasttext', 'gpt', 'learning', 'search', 'similarity']\n",
    "frequency_list = [55,10,33,20,12, 26, 30, 30, 30, 15, 20, 20, 20]\n",
    "\n",
    "WordFreq = pd.DataFrame()\n",
    "\n",
    "WordFreq['Word'] = words_list\n",
    "WordFreq['Frequency'] = frequency_list"
   ]
  },
  {
   "cell_type": "code",
   "execution_count": null,
   "metadata": {},
   "outputs": [],
   "source": [
    "# When using data from a pandas df\n",
    "#Create DTM\n",
    "cv = CountVectorizer(ngram_range = (1,3), stop_words='english')\n",
    "dtm = cv.fit_transform(df[TEXT_FIELD])\n",
    "words = np.array(cv.get_feature_names_out())\n",
    "\n",
    "#Look at top N most frequent words\n",
    "freqs=dtm.sum(axis=0).A.flatten()\n",
    "index=np.argsort(freqs)[-35:]\n",
    "\n",
    "# Construct dataframe\n",
    "WordFreq = pd.DataFrame.from_records(list(zip(words[index], freqs[index])))\n",
    "WordFreq.columns = ['Word', 'Frequency']\n",
    "\n",
    "# Plot horizontal bar graph\n",
    "fig, ax = plt.subplots(figsize=(5, 5))\n",
    "WordFreq.sort_values(by='Frequency').plot.barh(\n",
    "                      x='Word',\n",
    "                      y='Frequency',\n",
    "                      ax=ax,\n",
    "                      color=\"forestgreen\")\n",
    "\n",
    "# COLORS: darkred, goldenrod, forestgreen, deepskyblue, rebeccapurple\n",
    "\n",
    "plt.title(f\"Most Common Words\")"
   ]
  },
  {
   "cell_type": "markdown",
   "metadata": {},
   "source": [
    "## Generate Word Cloud"
   ]
  },
  {
   "cell_type": "markdown",
   "metadata": {},
   "source": [
    "### Assign a color map"
   ]
  },
  {
   "cell_type": "code",
   "execution_count": null,
   "metadata": {},
   "outputs": [],
   "source": [
    "# Create the custom color map\n",
    "cmap = matplotlib.colors.LinearSegmentedColormap.from_list(\"\", [\"#111D45\", \"#0B2D71\", \"#064A91\", \"#0066B2\", \"#0081C5\"])\n",
    "\n",
    "\n",
    "# List of \"Chevron\" blue colors\n",
    "# [\"#111D45\", \"#0B2D71\", \"#064A91\", \"#0066B2\", \"#0081C5\"]\n",
    "\n",
    "# List of Red/Orange/Yellow colors\n",
    "# [\"#740001\", \"#ae0001\", \"#eeba30\", \"#d3a625\", \"#000000\"]\n",
    "\n"
   ]
  },
  {
   "cell_type": "code",
   "execution_count": null,
   "metadata": {},
   "outputs": [],
   "source": [
    "# Multiply a word by the number of times it is seen in the corpus\n",
    "\n",
    "GLOBAL_STRING = \"\"\n",
    "for i in range(0, len(WordFreq)):\n",
    "    string = WordFreq['Word'][i]\n",
    "    number_of_times = WordFreq['Frequency'][i]\n",
    "    for i in range(0,number_of_times):\n",
    "        GLOBAL_STRING += string + \" \""
   ]
  },
  {
   "cell_type": "code",
   "execution_count": null,
   "metadata": {},
   "outputs": [],
   "source": [
    "# Generate Word Cloud\n",
    "wc = WordCloud(background_color='white', \n",
    "               font_path = \"src/Gotham-Bold.otf\",\n",
    "               contour_width = 2,\n",
    "               width = 800, \n",
    "               height = 600,\n",
    "               collocations=False,\n",
    "               colormap = cmap).generate(GLOBAL_STRING)\n",
    "plt.axis(\"off\")\n",
    "plt.imshow(wc)"
   ]
  },
  {
   "cell_type": "code",
   "execution_count": null,
   "metadata": {},
   "outputs": [],
   "source": [
    "# Save word cloud to file\n",
    "wc.to_file(WORDCLOUD_OUTPUT_FILEPATH)"
   ]
  },
  {
   "cell_type": "code",
   "execution_count": null,
   "metadata": {},
   "outputs": [],
   "source": [
    "len(df)"
   ]
  },
  {
   "cell_type": "code",
   "execution_count": null,
   "metadata": {},
   "outputs": [],
   "source": []
  }
 ],
 "metadata": {
  "kernelspec": {
   "display_name": "base",
   "language": "python",
   "name": "python3"
  },
  "language_info": {
   "codemirror_mode": {
    "name": "ipython",
    "version": 3
   },
   "file_extension": ".py",
   "mimetype": "text/x-python",
   "name": "python",
   "nbconvert_exporter": "python",
   "pygments_lexer": "ipython3",
   "version": "3.9.5"
  }
 },
 "nbformat": 4,
 "nbformat_minor": 2
}
