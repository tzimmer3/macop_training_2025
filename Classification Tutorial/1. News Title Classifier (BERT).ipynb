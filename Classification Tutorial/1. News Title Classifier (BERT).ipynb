{
 "cells": [
  {
   "cell_type": "markdown",
   "metadata": {},
   "source": [
    "# Import Packages and Data"
   ]
  },
  {
   "cell_type": "code",
   "execution_count": 1,
   "metadata": {
    "ExecuteTime": {
     "end_time": "2021-11-05T16:44:31.696458Z",
     "start_time": "2021-11-05T16:44:24.588768Z"
    },
    "code_folding": [
     0
    ]
   },
   "outputs": [],
   "source": [
    "# Import Packages\n",
    "import warnings\n",
    "warnings.filterwarnings(\"ignore\")\n",
    "\n",
    "import numpy as np\n",
    "import pandas as pd\n",
    "# import matplotlib.pyplot as plt\n",
    "\n",
    "# Classification Model\n",
    "from sklearn.model_selection import train_test_split #, GridSearchCV\n",
    "from sklearn.neighbors import KNeighborsClassifier\n",
    "\n",
    "# Post Analysis\n",
    "from sklearn.manifold import TSNE\n",
    "\n",
    "\n",
    "# Custom functions\n",
    "# BERT model embeddings\n",
    "from src.model_operations import get_embeddings, write_target_descriptive_categories\n",
    "# Custom Model diagnostics\n",
    "from src.model_diagnostics import categorical_accuracy_table, confusion_matrix"
   ]
  },
  {
   "cell_type": "code",
   "execution_count": 2,
   "metadata": {},
   "outputs": [],
   "source": [
    "# Variables\n",
    "\n",
    "#============#\n",
    "# Data\n",
    "#============#\n",
    "filepath = \"data/\"\n",
    "filename = \"downsampled_dataset.csv\"\n",
    "\n",
    "OUTPUT_FILEPATH = \"data/\"\n",
    "OUTPUT_FILENAME = 'KNN_Classifier_Results.csv'\n",
    "\n",
    "\n",
    "#============#\n",
    "# Modeling Params\n",
    "#============#\n",
    "test_size = .25\n"
   ]
  },
  {
   "cell_type": "code",
   "execution_count": 3,
   "metadata": {
    "ExecuteTime": {
     "end_time": "2021-11-05T16:44:31.806166Z",
     "start_time": "2021-11-05T16:44:31.698454Z"
    },
    "code_folding": []
   },
   "outputs": [
    {
     "data": {
      "text/html": [
       "<div>\n",
       "<style scoped>\n",
       "    .dataframe tbody tr th:only-of-type {\n",
       "        vertical-align: middle;\n",
       "    }\n",
       "\n",
       "    .dataframe tbody tr th {\n",
       "        vertical-align: top;\n",
       "    }\n",
       "\n",
       "    .dataframe thead th {\n",
       "        text-align: right;\n",
       "    }\n",
       "</style>\n",
       "<table border=\"1\" class=\"dataframe\">\n",
       "  <thead>\n",
       "    <tr style=\"text-align: right;\">\n",
       "      <th></th>\n",
       "      <th>ID</th>\n",
       "      <th>TITLE</th>\n",
       "      <th>URL</th>\n",
       "      <th>PUBLISHER</th>\n",
       "      <th>CATEGORY</th>\n",
       "      <th>STORY</th>\n",
       "      <th>HOSTNAME</th>\n",
       "      <th>TIMESTAMP</th>\n",
       "    </tr>\n",
       "  </thead>\n",
       "  <tbody>\n",
       "    <tr>\n",
       "      <th>0</th>\n",
       "      <td>295933</td>\n",
       "      <td>HBO's 'Game of Thrones' Finale Draws 7.1 Milli...</td>\n",
       "      <td>http://variety.com/2014/tv/ratings/hbos-game-o...</td>\n",
       "      <td>Variety</td>\n",
       "      <td>1</td>\n",
       "      <td>dC3-DM8Lb3vGU5Mkhf3DSUhxreGDM</td>\n",
       "      <td>variety.com</td>\n",
       "      <td>1403015867587</td>\n",
       "    </tr>\n",
       "    <tr>\n",
       "      <th>1</th>\n",
       "      <td>120908</td>\n",
       "      <td>Yahoo shares surge after first quarter revenue...</td>\n",
       "      <td>http://www.bizjournals.com/sanjose/news/2014/0...</td>\n",
       "      <td>Silicon Valley Business Journal</td>\n",
       "      <td>2</td>\n",
       "      <td>dT_6B-49u7PCtGMmH5Z4F4aMi-tKM</td>\n",
       "      <td>www.bizjournals.com</td>\n",
       "      <td>1397641368477</td>\n",
       "    </tr>\n",
       "    <tr>\n",
       "      <th>2</th>\n",
       "      <td>95402</td>\n",
       "      <td>UPDATE 2-Hotel chain La Quinta makes subdued d...</td>\n",
       "      <td>http://www.reuters.com/article/2014/04/09/laqu...</td>\n",
       "      <td>Reuters</td>\n",
       "      <td>2</td>\n",
       "      <td>d2cfi33G40EuaaMxFzMxeeXjzFgvM</td>\n",
       "      <td>www.reuters.com</td>\n",
       "      <td>1397065266477</td>\n",
       "    </tr>\n",
       "    <tr>\n",
       "      <th>3</th>\n",
       "      <td>234064</td>\n",
       "      <td>Major Study Finds E-Cigarettes Great for Quitt...</td>\n",
       "      <td>http://www.highlightpress.com/major-study-find...</td>\n",
       "      <td>Highlight Press</td>\n",
       "      <td>4</td>\n",
       "      <td>dUsqYpuEIbZlGfMjE1lyduks_WBVM</td>\n",
       "      <td>www.highlightpress.com</td>\n",
       "      <td>1400709444772</td>\n",
       "    </tr>\n",
       "    <tr>\n",
       "      <th>4</th>\n",
       "      <td>305499</td>\n",
       "      <td>The Most Important Features In Amazon's New Fi...</td>\n",
       "      <td>http://www.seattlepi.com/technology/businessin...</td>\n",
       "      <td>seattlepi.com</td>\n",
       "      <td>2</td>\n",
       "      <td>du-1bLu6hjI-CbM2f51YYbHc8JZGM</td>\n",
       "      <td>www.seattlepi.com</td>\n",
       "      <td>1403187295257</td>\n",
       "    </tr>\n",
       "  </tbody>\n",
       "</table>\n",
       "</div>"
      ],
      "text/plain": [
       "       ID                                              TITLE  \\\n",
       "0  295933  HBO's 'Game of Thrones' Finale Draws 7.1 Milli...   \n",
       "1  120908  Yahoo shares surge after first quarter revenue...   \n",
       "2   95402  UPDATE 2-Hotel chain La Quinta makes subdued d...   \n",
       "3  234064  Major Study Finds E-Cigarettes Great for Quitt...   \n",
       "4  305499  The Most Important Features In Amazon's New Fi...   \n",
       "\n",
       "                                                 URL  \\\n",
       "0  http://variety.com/2014/tv/ratings/hbos-game-o...   \n",
       "1  http://www.bizjournals.com/sanjose/news/2014/0...   \n",
       "2  http://www.reuters.com/article/2014/04/09/laqu...   \n",
       "3  http://www.highlightpress.com/major-study-find...   \n",
       "4  http://www.seattlepi.com/technology/businessin...   \n",
       "\n",
       "                         PUBLISHER  CATEGORY                          STORY  \\\n",
       "0                          Variety         1  dC3-DM8Lb3vGU5Mkhf3DSUhxreGDM   \n",
       "1  Silicon Valley Business Journal         2  dT_6B-49u7PCtGMmH5Z4F4aMi-tKM   \n",
       "2                          Reuters         2  d2cfi33G40EuaaMxFzMxeeXjzFgvM   \n",
       "3                  Highlight Press         4  dUsqYpuEIbZlGfMjE1lyduks_WBVM   \n",
       "4                    seattlepi.com         2  du-1bLu6hjI-CbM2f51YYbHc8JZGM   \n",
       "\n",
       "                 HOSTNAME      TIMESTAMP  \n",
       "0             variety.com  1403015867587  \n",
       "1     www.bizjournals.com  1397641368477  \n",
       "2         www.reuters.com  1397065266477  \n",
       "3  www.highlightpress.com  1400709444772  \n",
       "4       www.seattlepi.com  1403187295257  "
      ]
     },
     "execution_count": 3,
     "metadata": {},
     "output_type": "execute_result"
    }
   ],
   "source": [
    "# Import Data\n",
    "data = pd.read_csv(str(filepath)+str(filename))\n",
    "\n",
    "data.head()"
   ]
  },
  {
   "cell_type": "markdown",
   "metadata": {},
   "source": [
    "# Modeling"
   ]
  },
  {
   "cell_type": "markdown",
   "metadata": {},
   "source": [
    "Data Preparation for Modeling"
   ]
  },
  {
   "cell_type": "code",
   "execution_count": 4,
   "metadata": {},
   "outputs": [],
   "source": [
    "# Create modeling df using only the columns you need\n",
    "\n",
    "df = pd.DataFrame()\n",
    "# Independent variables\n",
    "df['Text'] = data['TITLE']\n",
    "# Dependent variable\n",
    "df['CATEGORY'] = data['CATEGORY']"
   ]
  },
  {
   "cell_type": "markdown",
   "metadata": {},
   "source": [
    "Encode Target variable"
   ]
  },
  {
   "cell_type": "code",
   "execution_count": 5,
   "metadata": {},
   "outputs": [],
   "source": [
    "def clean_target(value):\n",
    "    if value == 'e':\n",
    "        return 0\n",
    "    elif value == 'b':\n",
    "        return 1\n",
    "    elif value == 't':\n",
    "        return 2\n",
    "    elif value == 'm':\n",
    "        return 3\n",
    "    else:\n",
    "        return \"ERROR\"\n",
    "        # return 1\n",
    "    \n",
    "df['Target'] = df['CATEGORY'].apply(clean_target)"
   ]
  },
  {
   "cell_type": "markdown",
   "metadata": {},
   "source": [
    "Train/Test split data for modeling"
   ]
  },
  {
   "cell_type": "code",
   "execution_count": 6,
   "metadata": {
    "ExecuteTime": {
     "end_time": "2021-11-05T16:44:31.963749Z",
     "start_time": "2021-11-05T16:44:31.949788Z"
    },
    "code_folding": [
     0
    ]
   },
   "outputs": [
    {
     "name": "stdout",
     "output_type": "stream",
     "text": [
      "Train Value Counts\n",
      "CATEGORY\n",
      "3    22693\n",
      "2    16931\n",
      "4    12184\n",
      "1    11555\n",
      "Name: count, dtype: int64\n",
      "Test Value Counts\n",
      "CATEGORY\n",
      "3    7531\n",
      "2    5735\n",
      "4    3933\n",
      "1    3922\n",
      "Name: count, dtype: int64\n"
     ]
    }
   ],
   "source": [
    "# Train,Test Split\n",
    "train_titles, test_titles, y_train, y_test = train_test_split(df['Text'], df['CATEGORY'], test_size=test_size, random_state=123)\n",
    "\n",
    "# Check distribution of dependent variable in train and test\n",
    "print(\"Train Value Counts\")\n",
    "print(y_train.value_counts())\n",
    "print(\"Test Value Counts\")\n",
    "print(y_test.value_counts())"
   ]
  },
  {
   "cell_type": "markdown",
   "metadata": {},
   "source": [
    "# Embed Text"
   ]
  },
  {
   "cell_type": "code",
   "execution_count": 7,
   "metadata": {},
   "outputs": [],
   "source": [
    "# Use SentenceBERT model to embed text\n",
    "X_train = get_embeddings(train_titles.tolist())\n",
    "X_test = get_embeddings(test_titles.tolist())"
   ]
  },
  {
   "cell_type": "markdown",
   "metadata": {},
   "source": [
    "# Train Model"
   ]
  },
  {
   "cell_type": "code",
   "execution_count": 8,
   "metadata": {},
   "outputs": [],
   "source": [
    "# Create a k-NN classifier with 6 neighbors\n",
    "knn = KNeighborsClassifier(n_neighbors=15)\n",
    "# Fit the classifier to the data\n",
    "knn.fit(X_train, y_train)\n",
    "\n",
    "# results DF\n",
    "results = pd.DataFrame()\n",
    "# Add predictions to test dataset\n",
    "results['Prediction'] = knn.predict(X_test)\n",
    "# Add ground truth\n",
    "results['Target'] = y_test.values\n",
    "\n",
    "# Training dataset\n",
    "training = pd.DataFrame()\n",
    "training['Target'] = y_train\n",
    "training['Predictions'] = knn.predict(X_train)"
   ]
  },
  {
   "cell_type": "markdown",
   "metadata": {},
   "source": [
    "# Model Diagnostics"
   ]
  },
  {
   "cell_type": "markdown",
   "metadata": {},
   "source": [
    "Check Results"
   ]
  },
  {
   "cell_type": "code",
   "execution_count": 9,
   "metadata": {
    "ExecuteTime": {
     "end_time": "2021-11-05T16:45:05.393648Z",
     "start_time": "2021-11-05T16:45:05.372193Z"
    },
    "code_folding": [
     0
    ]
   },
   "outputs": [
    {
     "name": "stdout",
     "output_type": "stream",
     "text": [
      "Test Dataset\n"
     ]
    },
    {
     "data": {
      "text/html": [
       "<div>\n",
       "<style scoped>\n",
       "    .dataframe tbody tr th:only-of-type {\n",
       "        vertical-align: middle;\n",
       "    }\n",
       "\n",
       "    .dataframe tbody tr th {\n",
       "        vertical-align: top;\n",
       "    }\n",
       "\n",
       "    .dataframe thead th {\n",
       "        text-align: right;\n",
       "    }\n",
       "</style>\n",
       "<table border=\"1\" class=\"dataframe\">\n",
       "  <thead>\n",
       "    <tr style=\"text-align: right;\">\n",
       "      <th></th>\n",
       "      <th>Measure</th>\n",
       "      <th>Value</th>\n",
       "    </tr>\n",
       "  </thead>\n",
       "  <tbody>\n",
       "    <tr>\n",
       "      <th>0</th>\n",
       "      <td>Accuracy</td>\n",
       "      <td>0.941954</td>\n",
       "    </tr>\n",
       "    <tr>\n",
       "      <th>1</th>\n",
       "      <td>F1_Score</td>\n",
       "      <td>0.941901</td>\n",
       "    </tr>\n",
       "    <tr>\n",
       "      <th>2</th>\n",
       "      <td>Precision</td>\n",
       "      <td>0.941915</td>\n",
       "    </tr>\n",
       "    <tr>\n",
       "      <th>3</th>\n",
       "      <td>Recall</td>\n",
       "      <td>0.941954</td>\n",
       "    </tr>\n",
       "    <tr>\n",
       "      <th>4</th>\n",
       "      <td>MCC</td>\n",
       "      <td>0.920457</td>\n",
       "    </tr>\n",
       "  </tbody>\n",
       "</table>\n",
       "</div>"
      ],
      "text/plain": [
       "     Measure     Value\n",
       "0   Accuracy  0.941954\n",
       "1   F1_Score  0.941901\n",
       "2  Precision  0.941915\n",
       "3     Recall  0.941954\n",
       "4        MCC  0.920457"
      ]
     },
     "execution_count": 9,
     "metadata": {},
     "output_type": "execute_result"
    }
   ],
   "source": [
    "# Plot global model accuracy metrics\n",
    "# print(\"Training Dataset\")\n",
    "# categorical_accuracy_table(training['Target'], training['Predictions'])\n",
    "print(\"Test Dataset\")\n",
    "categorical_accuracy_table(results['Target'],results['Prediction'])"
   ]
  },
  {
   "cell_type": "code",
   "execution_count": 21,
   "metadata": {
    "ExecuteTime": {
     "end_time": "2021-11-05T16:44:38.548462Z",
     "start_time": "2021-11-05T16:44:37.490762Z"
    },
    "code_folding": [
     0
    ]
   },
   "outputs": [
    {
     "name": "stdout",
     "output_type": "stream",
     "text": [
      "Test Dataset\n"
     ]
    },
    {
     "data": {
      "image/png": "[encoded data removed]",
      "text/plain": [
       "<Figure size 640x480 with 2 Axes>"
      ]
     },
     "metadata": {},
     "output_type": "display_data"
    }
   ],
   "source": [
    "# # Plot confusion matrix\n",
    "# print(\"Training Dataset\")\n",
    "# confusion_matrix(training['Target'], training['Predictions'])\n",
    "print(\"Test Dataset\")\n",
    "confusion_matrix(results['Target'],results['Prediction'])"
   ]
  },
  {
   "cell_type": "markdown",
   "metadata": {},
   "source": [
    "# Post-Modeling Visualization"
   ]
  },
  {
   "cell_type": "markdown",
   "metadata": {},
   "source": [
    "Dimentionality Reduction"
   ]
  },
  {
   "cell_type": "code",
   "execution_count": 11,
   "metadata": {},
   "outputs": [],
   "source": [
    "# Create tsne object\n",
    "tsne = TSNE(n_components=2)\n",
    "\n",
    "# Fit tsne to test data\n",
    "X_test_embedded = TSNE(n_components=2).fit_transform(X_test)\n",
    "\n",
    "# Clean up data\n",
    "test_df_embeddings = pd.DataFrame(X_test_embedded)\n",
    "test_df_embeddings = test_df_embeddings.rename(columns={0:'x',1:'y'})\n",
    "test_df_embeddings['Prediction'] = knn.predict(X_test)"
   ]
  },
  {
   "cell_type": "markdown",
   "metadata": {},
   "source": [
    "Data Preparation for Visuals"
   ]
  },
  {
   "cell_type": "code",
   "execution_count": 12,
   "metadata": {},
   "outputs": [],
   "source": [
    "# Additional Metadata Columns for visuals\n",
    "## Record when models prediction matches ground truth\n",
    "results['Hits'] = np.where(results['Target']==results['Prediction'], 1, 0)\n",
    "\n",
    "\n",
    "## Create columns for visual's legend\n",
    "results['Hits Labeled'] = np.where(results['Target']==results['Prediction'], 'Correct Predictions', 'Incorrect Predictions')"
   ]
  },
  {
   "cell_type": "code",
   "execution_count": 13,
   "metadata": {},
   "outputs": [
    {
     "data": {
      "text/html": [
       "<div>\n",
       "<style scoped>\n",
       "    .dataframe tbody tr th:only-of-type {\n",
       "        vertical-align: middle;\n",
       "    }\n",
       "\n",
       "    .dataframe tbody tr th {\n",
       "        vertical-align: top;\n",
       "    }\n",
       "\n",
       "    .dataframe thead th {\n",
       "        text-align: right;\n",
       "    }\n",
       "</style>\n",
       "<table border=\"1\" class=\"dataframe\">\n",
       "  <thead>\n",
       "    <tr style=\"text-align: right;\">\n",
       "      <th></th>\n",
       "      <th>x</th>\n",
       "      <th>y</th>\n",
       "      <th>Prediction</th>\n",
       "      <th>Target</th>\n",
       "      <th>Hits</th>\n",
       "      <th>Hits Labeled</th>\n",
       "    </tr>\n",
       "  </thead>\n",
       "  <tbody>\n",
       "    <tr>\n",
       "      <th>21116</th>\n",
       "      <td>14.566657</td>\n",
       "      <td>-57.416824</td>\n",
       "      <td>3</td>\n",
       "      <td>3</td>\n",
       "      <td>1</td>\n",
       "      <td>Correct Predictions</td>\n",
       "    </tr>\n",
       "    <tr>\n",
       "      <th>21117</th>\n",
       "      <td>-30.293859</td>\n",
       "      <td>-0.399703</td>\n",
       "      <td>1</td>\n",
       "      <td>1</td>\n",
       "      <td>1</td>\n",
       "      <td>Correct Predictions</td>\n",
       "    </tr>\n",
       "    <tr>\n",
       "      <th>21118</th>\n",
       "      <td>-41.434978</td>\n",
       "      <td>-91.808250</td>\n",
       "      <td>4</td>\n",
       "      <td>4</td>\n",
       "      <td>1</td>\n",
       "      <td>Correct Predictions</td>\n",
       "    </tr>\n",
       "    <tr>\n",
       "      <th>21119</th>\n",
       "      <td>61.287281</td>\n",
       "      <td>67.816536</td>\n",
       "      <td>3</td>\n",
       "      <td>3</td>\n",
       "      <td>1</td>\n",
       "      <td>Correct Predictions</td>\n",
       "    </tr>\n",
       "    <tr>\n",
       "      <th>21120</th>\n",
       "      <td>-5.852948</td>\n",
       "      <td>56.554955</td>\n",
       "      <td>3</td>\n",
       "      <td>3</td>\n",
       "      <td>1</td>\n",
       "      <td>Correct Predictions</td>\n",
       "    </tr>\n",
       "  </tbody>\n",
       "</table>\n",
       "</div>"
      ],
      "text/plain": [
       "               x          y  Prediction  Target  Hits         Hits Labeled\n",
       "21116  14.566657 -57.416824           3       3     1  Correct Predictions\n",
       "21117 -30.293859  -0.399703           1       1     1  Correct Predictions\n",
       "21118 -41.434978 -91.808250           4       4     1  Correct Predictions\n",
       "21119  61.287281  67.816536           3       3     1  Correct Predictions\n",
       "21120  -5.852948  56.554955           3       3     1  Correct Predictions"
      ]
     },
     "execution_count": 13,
     "metadata": {},
     "output_type": "execute_result"
    }
   ],
   "source": [
    "# Create visualization dataset\n",
    "## Copy tsne df\n",
    "visualization_dataset = test_df_embeddings\n",
    "## Reset index\n",
    "visualization_dataset.reset_index(inplace=True, drop=True)\n",
    "## Merge tsne results with results df\n",
    "visualization_dataset = pd.merge(visualization_dataset, results, how='inner', left_index=True, right_index=True)\n",
    "## Clean up columns\n",
    "visualization_dataset = visualization_dataset.drop(columns=['Prediction_x'])\n",
    "visualization_dataset = visualization_dataset.rename(columns={'Prediction_y':'Prediction', 'Target_y':'Target', \"Hits_y\":\"Hits\"})\n",
    "\n",
    "# Check results\n",
    "visualization_dataset.tail()"
   ]
  },
  {
   "cell_type": "markdown",
   "metadata": {},
   "source": [
    "# Output Model Results"
   ]
  },
  {
   "cell_type": "code",
   "execution_count": 22,
   "metadata": {},
   "outputs": [],
   "source": [
    "# Output visualization dataset\n",
    "visualization_dataset.to_csv(str(OUTPUT_FILEPATH)+str(OUTPUT_FILENAME), sep=',', index = False)"
   ]
  },
  {
   "cell_type": "code",
   "execution_count": null,
   "metadata": {},
   "outputs": [],
   "source": []
  }
 ],
 "metadata": {
  "kernelspec": {
   "display_name": ".venv",
   "language": "python",
   "name": "python3"
  },
  "language_info": {
   "codemirror_mode": {
    "name": "ipython",
    "version": 3
   },
   "file_extension": ".py",
   "mimetype": "text/x-python",
   "name": "python",
   "nbconvert_exporter": "python",
   "pygments_lexer": "ipython3",
   "version": "3.12.9"
  },
  "toc": {
   "base_numbering": 1,
   "nav_menu": {},
   "number_sections": true,
   "sideBar": true,
   "skip_h1_title": false,
   "title_cell": "Table of Contents",
   "title_sidebar": "Contents",
   "toc_cell": false,
   "toc_position": {
    "height": "calc(100% - 180px)",
    "left": "10px",
    "top": "150px",
    "width": "167.205px"
   },
   "toc_section_display": true,
   "toc_window_display": true
  }
 },
 "nbformat": 4,
 "nbformat_minor": 4
}
