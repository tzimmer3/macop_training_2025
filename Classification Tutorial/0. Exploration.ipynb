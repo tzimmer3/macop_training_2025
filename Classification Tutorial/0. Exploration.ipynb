{
 "cells": [
  {
   "cell_type": "markdown",
   "metadata": {},
   "source": [
    "# Exploration\n",
    "This notebook will explore our dataset to inform our cleaning activities."
   ]
  },
  {
   "cell_type": "markdown",
   "metadata": {},
   "source": [
    "## Dictionary\n",
    "\n",
    "- ID : the numeric ID of the article\n",
    "- TITLE : the headline of the article\n",
    "- URL : the URL of the article\n",
    "- PUBLISHER : the publisher of the article\n",
    "- CATEGORY : the category of the news item; one of:\n",
    "  - e : entertainment\n",
    "  - b : business\n",
    "  - t : science and technology\n",
    "  - m : health\n",
    "- STORY : alphanumeric ID of the news story that the article discusses\n",
    "- HOSTNAME : hostname where the article was posted\n",
    "- TIMESTAMP : approximate timestamp of the article's publication, given in Unix time (seconds since midnight on Jan 1, 1970)"
   ]
  },
  {
   "cell_type": "code",
   "execution_count": 1,
   "metadata": {},
   "outputs": [
    {
     "name": "stderr",
     "output_type": "stream",
     "text": [
      "c:\\Users\\hlmq\\code\\macop_training_2025\\.venv\\Lib\\site-packages\\tqdm\\auto.py:21: TqdmWarning: IProgress not found. Please update jupyter and ipywidgets. See https://ipywidgets.readthedocs.io/en/stable/user_install.html\n",
      "  from .autonotebook import tqdm as notebook_tqdm\n"
     ]
    }
   ],
   "source": [
    "# Import packages\n",
    "import numpy as np\n",
    "import pandas as pd\n",
    "import matplotlib.pyplot as plt\n",
    "\n",
    "import re\n",
    "\n",
    "from sklearn.feature_extraction.text import CountVectorizer\n",
    "\n",
    "from src.model_operations import count_tokens"
   ]
  },
  {
   "cell_type": "code",
   "execution_count": 2,
   "metadata": {},
   "outputs": [],
   "source": [
    "# Import data\n",
    "data = pd.read_csv(\"data/downsampled_dataset.csv\")"
   ]
  },
  {
   "cell_type": "markdown",
   "metadata": {},
   "source": [
    "# Global Dataset Statistics"
   ]
  },
  {
   "cell_type": "code",
   "execution_count": 3,
   "metadata": {},
   "outputs": [
    {
     "data": {
      "text/html": [
       "<div>\n",
       "<style scoped>\n",
       "    .dataframe tbody tr th:only-of-type {\n",
       "        vertical-align: middle;\n",
       "    }\n",
       "\n",
       "    .dataframe tbody tr th {\n",
       "        vertical-align: top;\n",
       "    }\n",
       "\n",
       "    .dataframe thead th {\n",
       "        text-align: right;\n",
       "    }\n",
       "</style>\n",
       "<table border=\"1\" class=\"dataframe\">\n",
       "  <thead>\n",
       "    <tr style=\"text-align: right;\">\n",
       "      <th></th>\n",
       "      <th>ID</th>\n",
       "      <th>TITLE</th>\n",
       "      <th>URL</th>\n",
       "      <th>PUBLISHER</th>\n",
       "      <th>CATEGORY</th>\n",
       "      <th>STORY</th>\n",
       "      <th>HOSTNAME</th>\n",
       "      <th>TIMESTAMP</th>\n",
       "    </tr>\n",
       "  </thead>\n",
       "  <tbody>\n",
       "    <tr>\n",
       "      <th>0</th>\n",
       "      <td>295933</td>\n",
       "      <td>HBO's 'Game of Thrones' Finale Draws 7.1 Milli...</td>\n",
       "      <td>http://variety.com/2014/tv/ratings/hbos-game-o...</td>\n",
       "      <td>Variety</td>\n",
       "      <td>1</td>\n",
       "      <td>dC3-DM8Lb3vGU5Mkhf3DSUhxreGDM</td>\n",
       "      <td>variety.com</td>\n",
       "      <td>1403015867587</td>\n",
       "    </tr>\n",
       "    <tr>\n",
       "      <th>1</th>\n",
       "      <td>120908</td>\n",
       "      <td>Yahoo shares surge after first quarter revenue...</td>\n",
       "      <td>http://www.bizjournals.com/sanjose/news/2014/0...</td>\n",
       "      <td>Silicon Valley Business Journal</td>\n",
       "      <td>2</td>\n",
       "      <td>dT_6B-49u7PCtGMmH5Z4F4aMi-tKM</td>\n",
       "      <td>www.bizjournals.com</td>\n",
       "      <td>1397641368477</td>\n",
       "    </tr>\n",
       "    <tr>\n",
       "      <th>2</th>\n",
       "      <td>95402</td>\n",
       "      <td>UPDATE 2-Hotel chain La Quinta makes subdued d...</td>\n",
       "      <td>http://www.reuters.com/article/2014/04/09/laqu...</td>\n",
       "      <td>Reuters</td>\n",
       "      <td>2</td>\n",
       "      <td>d2cfi33G40EuaaMxFzMxeeXjzFgvM</td>\n",
       "      <td>www.reuters.com</td>\n",
       "      <td>1397065266477</td>\n",
       "    </tr>\n",
       "    <tr>\n",
       "      <th>3</th>\n",
       "      <td>234064</td>\n",
       "      <td>Major Study Finds E-Cigarettes Great for Quitt...</td>\n",
       "      <td>http://www.highlightpress.com/major-study-find...</td>\n",
       "      <td>Highlight Press</td>\n",
       "      <td>4</td>\n",
       "      <td>dUsqYpuEIbZlGfMjE1lyduks_WBVM</td>\n",
       "      <td>www.highlightpress.com</td>\n",
       "      <td>1400709444772</td>\n",
       "    </tr>\n",
       "    <tr>\n",
       "      <th>4</th>\n",
       "      <td>305499</td>\n",
       "      <td>The Most Important Features In Amazon's New Fi...</td>\n",
       "      <td>http://www.seattlepi.com/technology/businessin...</td>\n",
       "      <td>seattlepi.com</td>\n",
       "      <td>2</td>\n",
       "      <td>du-1bLu6hjI-CbM2f51YYbHc8JZGM</td>\n",
       "      <td>www.seattlepi.com</td>\n",
       "      <td>1403187295257</td>\n",
       "    </tr>\n",
       "  </tbody>\n",
       "</table>\n",
       "</div>"
      ],
      "text/plain": [
       "       ID                                              TITLE  \\\n",
       "0  295933  HBO's 'Game of Thrones' Finale Draws 7.1 Milli...   \n",
       "1  120908  Yahoo shares surge after first quarter revenue...   \n",
       "2   95402  UPDATE 2-Hotel chain La Quinta makes subdued d...   \n",
       "3  234064  Major Study Finds E-Cigarettes Great for Quitt...   \n",
       "4  305499  The Most Important Features In Amazon's New Fi...   \n",
       "\n",
       "                                                 URL  \\\n",
       "0  http://variety.com/2014/tv/ratings/hbos-game-o...   \n",
       "1  http://www.bizjournals.com/sanjose/news/2014/0...   \n",
       "2  http://www.reuters.com/article/2014/04/09/laqu...   \n",
       "3  http://www.highlightpress.com/major-study-find...   \n",
       "4  http://www.seattlepi.com/technology/businessin...   \n",
       "\n",
       "                         PUBLISHER  CATEGORY                          STORY  \\\n",
       "0                          Variety         1  dC3-DM8Lb3vGU5Mkhf3DSUhxreGDM   \n",
       "1  Silicon Valley Business Journal         2  dT_6B-49u7PCtGMmH5Z4F4aMi-tKM   \n",
       "2                          Reuters         2  d2cfi33G40EuaaMxFzMxeeXjzFgvM   \n",
       "3                  Highlight Press         4  dUsqYpuEIbZlGfMjE1lyduks_WBVM   \n",
       "4                    seattlepi.com         2  du-1bLu6hjI-CbM2f51YYbHc8JZGM   \n",
       "\n",
       "                 HOSTNAME      TIMESTAMP  \n",
       "0             variety.com  1403015867587  \n",
       "1     www.bizjournals.com  1397641368477  \n",
       "2         www.reuters.com  1397065266477  \n",
       "3  www.highlightpress.com  1400709444772  \n",
       "4       www.seattlepi.com  1403187295257  "
      ]
     },
     "execution_count": 3,
     "metadata": {},
     "output_type": "execute_result"
    }
   ],
   "source": [
    "# What does the data look like?\n",
    "data.head()"
   ]
  },
  {
   "cell_type": "code",
   "execution_count": 4,
   "metadata": {},
   "outputs": [
    {
     "data": {
      "text/plain": [
       "84484"
      ]
     },
     "execution_count": 4,
     "metadata": {},
     "output_type": "execute_result"
    }
   ],
   "source": [
    "# How many observations?\n",
    "len(data)"
   ]
  },
  {
   "cell_type": "code",
   "execution_count": 5,
   "metadata": {},
   "outputs": [
    {
     "data": {
      "text/plain": [
       "'LARRY PRATT: Meteor shower may be sight to see'"
      ]
     },
     "execution_count": 5,
     "metadata": {},
     "output_type": "execute_result"
    }
   ],
   "source": [
    "# What is a typical article title?\n",
    "data['TITLE'][100]"
   ]
  },
  {
   "cell_type": "markdown",
   "metadata": {},
   "source": [
    "# Target Column Exploration"
   ]
  },
  {
   "cell_type": "code",
   "execution_count": 6,
   "metadata": {},
   "outputs": [
    {
     "data": {
      "text/plain": [
       "0"
      ]
     },
     "execution_count": 6,
     "metadata": {},
     "output_type": "execute_result"
    }
   ],
   "source": [
    "# Any missing values?\n",
    "data['CATEGORY'].isnull().sum()"
   ]
  },
  {
   "cell_type": "code",
   "execution_count": 7,
   "metadata": {},
   "outputs": [
    {
     "data": {
      "text/plain": [
       "CATEGORY\n",
       "3    30224\n",
       "2    22666\n",
       "4    16117\n",
       "1    15477\n",
       "Name: count, dtype: int64"
      ]
     },
     "execution_count": 7,
     "metadata": {},
     "output_type": "execute_result"
    }
   ],
   "source": [
    "# Distribution of values\n",
    "data['CATEGORY'].value_counts()"
   ]
  },
  {
   "cell_type": "markdown",
   "metadata": {},
   "source": [
    "# Text Column Exploration"
   ]
  },
  {
   "cell_type": "code",
   "execution_count": 8,
   "metadata": {},
   "outputs": [
    {
     "data": {
      "text/plain": [
       "0"
      ]
     },
     "execution_count": 8,
     "metadata": {},
     "output_type": "execute_result"
    }
   ],
   "source": [
    "# Any missing values?\n",
    "data['TITLE'].isnull().sum()"
   ]
  },
  {
   "cell_type": "markdown",
   "metadata": {},
   "source": [
    "## Length of TITLE (number of words)"
   ]
  },
  {
   "cell_type": "markdown",
   "metadata": {},
   "source": [
    "This has a large impact on our choice of Large Language Model (LLM). \n",
    "\n",
    "LLMs operate on a fixed sequence length.  \n",
    "\n",
    "This means any string shorter than N number of words will be padded to reach a max length.  \n",
    "\n",
    "This max length is set when the LLM is trained.  \n",
    "\n",
    "Further, this is one of the factors that makes different LLMs better at a task than others. "
   ]
  },
  {
   "cell_type": "code",
   "execution_count": 9,
   "metadata": {},
   "outputs": [
    {
     "name": "stdout",
     "output_type": "stream",
     "text": [
      "Minimum number of words in TITLE: 1\n",
      "Average number of words in TITLE: 9.0\n",
      "Maximum number of words in TITLE: 777\n"
     ]
    }
   ],
   "source": [
    "# Check average length of TITLE values\n",
    "data['title length'] = data['TITLE'].apply(count_tokens)\n",
    "\n",
    "\n",
    "# Print out metrics\n",
    "print(f\"Minimum number of words in TITLE: {np.round(data['title length'].min())}\")\n",
    "print(f\"Average number of words in TITLE: {np.round(data['title length'].mean())}\")\n",
    "print(f\"Maximum number of words in TITLE: {np.round(data['title length'].max())}\")"
   ]
  },
  {
   "cell_type": "code",
   "execution_count": 10,
   "metadata": {},
   "outputs": [
    {
     "name": "stdout",
     "output_type": "stream",
     "text": [
      "Number of TITLE obs with more than 10 words: 25726\n"
     ]
    },
    {
     "data": {
      "text/plain": [
       "'UPDATE 2-Hotel chain La Quinta makes subdued debut in crowded IPO market'"
      ]
     },
     "execution_count": 10,
     "metadata": {},
     "output_type": "execute_result"
    }
   ],
   "source": [
    "# Investigate Max values in TITLE\n",
    "n = 10\n",
    "high_values = data[data['title length']>n]\n",
    "\n",
    "print(f\"Number of TITLE obs with more than {n} words: {len(high_values)}\")\n",
    "high_values['TITLE'].iloc[0]"
   ]
  },
  {
   "cell_type": "code",
   "execution_count": 11,
   "metadata": {},
   "outputs": [
    {
     "name": "stdout",
     "output_type": "stream",
     "text": [
      "Number of TITLE obs with less than 3 words: 1022\n"
     ]
    },
    {
     "data": {
      "text/plain": [
       "'Holy Thursday'"
      ]
     },
     "execution_count": 11,
     "metadata": {},
     "output_type": "execute_result"
    }
   ],
   "source": [
    "# Investigate Min and Max values in TITLE\n",
    "n = 3\n",
    "low_values = data[data['title length']<= n]\n",
    "\n",
    "# Number of short titles\n",
    "print(f\"Number of TITLE obs with less than {n} words: {len(low_values)}\")\n",
    "# Check a single value \n",
    "low_values['TITLE'].iloc[0]"
   ]
  },
  {
   "cell_type": "markdown",
   "metadata": {},
   "source": [
    "## Check Special Characters"
   ]
  },
  {
   "cell_type": "code",
   "execution_count": 12,
   "metadata": {},
   "outputs": [
    {
     "data": {
      "text/plain": [
       "12"
      ]
     },
     "execution_count": 12,
     "metadata": {},
     "output_type": "execute_result"
    }
   ],
   "source": [
    "# How many observations have special characters?\n",
    "\n",
    "def check_for_special_chars(data):\n",
    "    \"\"\" Checks if a string is comprised entirely of alphanumeric characters. \"\"\"\n",
    "    return data.isalnum()\n",
    "\n",
    "# Check to see if special characters are present\n",
    "data['special chars present'] = data['TITLE'].apply(check_for_special_chars)\n",
    "# Check number of observations with special characters\n",
    "data['special chars present'].sum()"
   ]
  },
  {
   "cell_type": "code",
   "execution_count": 13,
   "metadata": {},
   "outputs": [],
   "source": [
    "# Check how prevalent special chars are in the text\n",
    "def remove_special_chars(data): \n",
    "    \"\"\" Removes special chars from a string. \"\"\"\n",
    "    return re.sub(\"[$&+;=@#|<>^*%-]\",\"\",data)\n",
    "\n",
    "# Remove special characters\n",
    "data['special chars removed'] = data['TITLE'].apply(check_for_special_chars)"
   ]
  },
  {
   "cell_type": "markdown",
   "metadata": {},
   "source": [
    "## Check Word Frequency"
   ]
  },
  {
   "cell_type": "code",
   "execution_count": 14,
   "metadata": {},
   "outputs": [
    {
     "name": "stdout",
     "output_type": "stream",
     "text": [
      "[('up', 2286), ('be', 2298), ('after', 2349), ('by', 2364), ('from', 2612), ('apple', 2772), ('as', 3243), ('google', 3376), ('us', 3776), ('is', 4180), ('at', 4188), ('new', 5059), ('with', 5106), ('and', 6864), ('on', 7729), ('for', 10937), ('of', 11131), ('the', 12383), ('in', 14262), ('to', 21022)]\n"
     ]
    }
   ],
   "source": [
    "# Most frequent 50 words\n",
    "\n",
    "#Create DTM\n",
    "cv = CountVectorizer(ngram_range = (1,1))\n",
    "dtm = cv.fit_transform(data['TITLE'])\n",
    "words = np.array(cv.get_feature_names_out())\n",
    "\n",
    "\n",
    "#Look at top 50 most frequent words\n",
    "freqs=dtm.sum(axis=0).A.flatten() \n",
    "index=np.argsort(freqs)[-20:] \n",
    "print(list(zip(words[index], freqs[index])))\n",
    "\n",
    "WordFreq = pd.DataFrame.from_records(list(zip(words[index], freqs[index]))) \n",
    "WordFreq.columns = ['Word', 'Freq']\n",
    "\n",
    "data = dict(zip(WordFreq['Word'].tolist(), WordFreq['Freq'].tolist()))"
   ]
  },
  {
   "cell_type": "code",
   "execution_count": 15,
   "metadata": {},
   "outputs": [
    {
     "data": {
      "text/plain": [
       "Text(0.5, 1.0, 'Count of Most Common Words')"
      ]
     },
     "execution_count": 15,
     "metadata": {},
     "output_type": "execute_result"
    },
    {
     "data": {
      "image/png": "[encoded data removed]",
      "text/plain": [
       "<Figure size 800x800 with 1 Axes>"
      ]
     },
     "metadata": {},
     "output_type": "display_data"
    }
   ],
   "source": [
    "# Plot horizontal bar graph\n",
    "fig, ax = plt.subplots(figsize=(8, 8))\n",
    "WordFreq.sort_values(by='Freq').plot.barh(\n",
    "                      x='Word',\n",
    "                      y='Freq',\n",
    "                      ax=ax,\n",
    "                      color=\"deepskyblue\")\n",
    "\n",
    "plt.title(\"Count of Most Common Words\")"
   ]
  }
 ],
 "metadata": {
  "kernelspec": {
   "display_name": ".venv",
   "language": "python",
   "name": "python3"
  },
  "language_info": {
   "codemirror_mode": {
    "name": "ipython",
    "version": 3
   },
   "file_extension": ".py",
   "mimetype": "text/x-python",
   "name": "python",
   "nbconvert_exporter": "python",
   "pygments_lexer": "ipython3",
   "version": "3.12.9"
  }
 },
 "nbformat": 4,
 "nbformat_minor": 4
}
