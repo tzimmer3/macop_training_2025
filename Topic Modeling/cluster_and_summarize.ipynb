{
 "cells": [
  {
   "cell_type": "code",
   "execution_count": 1,
   "metadata": {},
   "outputs": [],
   "source": [
    "import pandas as pd\n",
    "import matplotlib.pyplot as plt\n",
    "import seaborn as sns\n",
    "import openai\n",
    "import os\n",
    "\n",
    "# Clustering\n",
    "#import sklearn\n",
    "import hdbscan\n",
    "from sklearn.cluster import KMeans\n",
    "# Dim reduction\n",
    "from sklearn.manifold import TSNE\n",
    "# Summarization\n",
    "\n",
    "\n",
    "# src\n",
    "from src.embed import get_embeddings"
   ]
  },
  {
   "cell_type": "code",
   "execution_count": 2,
   "metadata": {},
   "outputs": [],
   "source": [
    "filepath = \"C:\\\\Users\\\\hlmq\\\\OneDrive - Chevron\\\\Desktop\\\\Projects\\\\Tech Abstracts\\\\data\\\\\"\n",
    "filename = \"2023 Tech Showcase Abstracts - with flags.csv\"\n",
    "\n",
    "df = pd.read_csv(str(filepath)+str(filename))"
   ]
  },
  {
   "cell_type": "code",
   "execution_count": 3,
   "metadata": {},
   "outputs": [],
   "source": [
    "## VARIABLES\n",
    "\n",
    "TEXT_FIELD = \"Abstract Text (limit to 250 words)\""
   ]
  },
  {
   "cell_type": "code",
   "execution_count": 4,
   "metadata": {},
   "outputs": [
    {
     "data": {
      "text/html": [
       "<div>\n",
       "<style scoped>\n",
       "    .dataframe tbody tr th:only-of-type {\n",
       "        vertical-align: middle;\n",
       "    }\n",
       "\n",
       "    .dataframe tbody tr th {\n",
       "        vertical-align: top;\n",
       "    }\n",
       "\n",
       "    .dataframe thead th {\n",
       "        text-align: right;\n",
       "    }\n",
       "</style>\n",
       "<table border=\"1\" class=\"dataframe\">\n",
       "  <thead>\n",
       "    <tr style=\"text-align: right;\">\n",
       "      <th></th>\n",
       "      <th>Selected</th>\n",
       "      <th>year</th>\n",
       "      <th>Abstract Title</th>\n",
       "      <th>Abstract Text (limit to 250 words)</th>\n",
       "    </tr>\n",
       "  </thead>\n",
       "  <tbody>\n",
       "    <tr>\n",
       "      <th>0</th>\n",
       "      <td>Yes</td>\n",
       "      <td>2023</td>\n",
       "      <td>Scaling Aircraft-Based Methane Detection acros...</td>\n",
       "      <td>Methane emission reductions from the oil and g...</td>\n",
       "    </tr>\n",
       "    <tr>\n",
       "      <th>1</th>\n",
       "      <td>NaN</td>\n",
       "      <td>2023</td>\n",
       "      <td>Development and Deployment of Chevron's Fractu...</td>\n",
       "      <td>Embedded Discrete Fracture Modeling (EDFM) is ...</td>\n",
       "    </tr>\n",
       "    <tr>\n",
       "      <th>2</th>\n",
       "      <td>yes</td>\n",
       "      <td>2023</td>\n",
       "      <td>Hydrogen Must Win Technology Challenge linkage...</td>\n",
       "      <td>Chevron aims to leverage our strengths to deli...</td>\n",
       "    </tr>\n",
       "    <tr>\n",
       "      <th>3</th>\n",
       "      <td>Yes</td>\n",
       "      <td>2023</td>\n",
       "      <td>Leveraging the Digital Oilfield: Optimizing Op...</td>\n",
       "      <td>The Tech Center, in collaboration with PE and ...</td>\n",
       "    </tr>\n",
       "    <tr>\n",
       "      <th>4</th>\n",
       "      <td>NaN</td>\n",
       "      <td>2023</td>\n",
       "      <td>Leveraging Technology to Improve Hydraulic Fra...</td>\n",
       "      <td>Development and deployment of fit-for-purpose,...</td>\n",
       "    </tr>\n",
       "  </tbody>\n",
       "</table>\n",
       "</div>"
      ],
      "text/plain": [
       "  Selected  year                                     Abstract Title  \\\n",
       "0      Yes  2023  Scaling Aircraft-Based Methane Detection acros...   \n",
       "1      NaN  2023  Development and Deployment of Chevron's Fractu...   \n",
       "2      yes  2023  Hydrogen Must Win Technology Challenge linkage...   \n",
       "3      Yes  2023  Leveraging the Digital Oilfield: Optimizing Op...   \n",
       "4      NaN  2023  Leveraging Technology to Improve Hydraulic Fra...   \n",
       "\n",
       "                  Abstract Text (limit to 250 words)  \n",
       "0  Methane emission reductions from the oil and g...  \n",
       "1  Embedded Discrete Fracture Modeling (EDFM) is ...  \n",
       "2  Chevron aims to leverage our strengths to deli...  \n",
       "3  The Tech Center, in collaboration with PE and ...  \n",
       "4  Development and deployment of fit-for-purpose,...  "
      ]
     },
     "execution_count": 4,
     "metadata": {},
     "output_type": "execute_result"
    }
   ],
   "source": [
    "df.head()"
   ]
  },
  {
   "cell_type": "markdown",
   "metadata": {},
   "source": [
    "## Embed Text"
   ]
  },
  {
   "cell_type": "code",
   "execution_count": 5,
   "metadata": {},
   "outputs": [],
   "source": [
    "# Generate embeddings\n",
    "abstracts = df[TEXT_FIELD].to_list()\n",
    "embeddings = get_embeddings(abstracts)"
   ]
  },
  {
   "cell_type": "markdown",
   "metadata": {},
   "source": [
    "## Cluster Text"
   ]
  },
  {
   "cell_type": "code",
   "execution_count": 6,
   "metadata": {},
   "outputs": [],
   "source": [
    "# HDBScan\n",
    "hdb = hdbscan.HDBSCAN(\n",
    "    min_samples=1, \n",
    "    min_cluster_size=5,\n",
    "    allow_single_cluster=False,\n",
    "    cluster_selection_epsilon=0.3\n",
    "    #store_centers=\"medoid\"\n",
    "    ).fit(embeddings)"
   ]
  },
  {
   "cell_type": "code",
   "execution_count": 7,
   "metadata": {},
   "outputs": [],
   "source": [
    "cluster = KMeans(n_clusters=10).fit(embeddings)"
   ]
  },
  {
   "cell_type": "code",
   "execution_count": 8,
   "metadata": {},
   "outputs": [
    {
     "data": {
      "text/plain": [
       "5    21\n",
       "0    20\n",
       "2    15\n",
       "4    14\n",
       "8    12\n",
       "1    10\n",
       "7     7\n",
       "3     6\n",
       "6     3\n",
       "9     2\n",
       "Name: Cluster Label, dtype: int64"
      ]
     },
     "execution_count": 8,
     "metadata": {},
     "output_type": "execute_result"
    }
   ],
   "source": [
    "#df['Cluster Label'] = hdb.labels_\n",
    "#df['Cluster Probability'] = hdb.probabilities_\n",
    "\n",
    "df['Cluster Label'] = cluster.labels_\n",
    "#df['Cluster Probability'] = cluster.probabilities_\n",
    "\n",
    "#print(len(hdb.medoids_))\n",
    "\n",
    "df['Cluster Label'].value_counts()"
   ]
  },
  {
   "cell_type": "code",
   "execution_count": 26,
   "metadata": {},
   "outputs": [
    {
     "name": "stdout",
     "output_type": "stream",
     "text": [
      "[0, 2, 7, 16, 36, 37, 38, 46, 53, 55, 61, 79, 102, 104, 108]\n"
     ]
    }
   ],
   "source": [
    "## Testing purposes for summary notebook.  REMOVE\n",
    "\n",
    "check = df[df['Cluster Label']==2]\n",
    "check.reset_index(inplace=True)\n",
    "check = check['index'].tolist()\n",
    "print(check)"
   ]
  },
  {
   "cell_type": "code",
   "execution_count": null,
   "metadata": {},
   "outputs": [],
   "source": [
    "#sns.displot(df['Cluster Probability'])"
   ]
  },
  {
   "cell_type": "markdown",
   "metadata": {},
   "source": [
    "## Reduce Embedding Dimensions"
   ]
  },
  {
   "cell_type": "code",
   "execution_count": 10,
   "metadata": {},
   "outputs": [
    {
     "name": "stderr",
     "output_type": "stream",
     "text": [
      "c:\\ProgramData\\Miniconda3\\envs\\nlp_cluster\\lib\\site-packages\\sklearn\\manifold\\_t_sne.py:790: FutureWarning: The default learning rate in TSNE will change from 200.0 to 'auto' in 1.2.\n",
      "  warnings.warn(\n",
      "c:\\ProgramData\\Miniconda3\\envs\\nlp_cluster\\lib\\site-packages\\sklearn\\manifold\\_t_sne.py:982: FutureWarning: The PCA initialization in TSNE will change to have the standard deviation of PC1 equal to 1e-4 in 1.2. This will ensure better convergence.\n",
      "  warnings.warn(\n"
     ]
    }
   ],
   "source": [
    "tsne = TSNE(\n",
    "    n_components=2,\n",
    "    perplexity=10,\n",
    "    n_iter=5000,\n",
    "    init = \"pca\",\n",
    "    random_state = 0\n",
    ")\n",
    "reduced_embeddings = tsne.fit_transform(embeddings)"
   ]
  },
  {
   "cell_type": "code",
   "execution_count": null,
   "metadata": {},
   "outputs": [],
   "source": []
  },
  {
   "cell_type": "markdown",
   "metadata": {},
   "source": [
    "## Summarize Clusters"
   ]
  },
  {
   "cell_type": "code",
   "execution_count": 11,
   "metadata": {},
   "outputs": [],
   "source": [
    "def select_obs_in_cluster(data, cluster_label, n_samples=3):\n",
    "    \"\"\" \n",
    "    Returns n observations from each cluster.  Keep all observations if less than n_samples. \n",
    "    \n",
    "    Inputs\n",
    "    data - df - dataframe of observations\n",
    "    cluster_label - int - unique cluster label to filter on\n",
    "    n_samples - int - number of observations keep from a cluster\n",
    "\n",
    "    Outputs\n",
    "    observation - str - n_samples observations joined together from each cluster.\n",
    "    \"\"\"\n",
    "\n",
    "    # Filter on the cluster label\n",
    "    temp_df = data[data['Cluster Label']==cluster_label]\n",
    "\n",
    "    # Check how many observations in the df. If too many, shorten it.\n",
    "    if len(temp_df) >= n_samples:\n",
    "        # Create a df with less observations.  Don't have probability with kmeans so just slicing.\n",
    "        temp_df = temp_df.iloc[:n_samples]\n",
    "        observation = ', '.join(temp_df['Abstract Text (limit to 250 words)'].tolist())\n",
    "    else:\n",
    "        # Keep all obs if less than n_samples\n",
    "        temp_df = data\n",
    "\n",
    "    return observation\n",
    "\n",
    "\n",
    "def create_summary(observation=None, prompt_style=None):\n",
    "\n",
    "    openai.api_type = \"azure\"\n",
    "    openai.api_base = \"https://crrc-t170-cvx-france.openai.azure.com/\"\n",
    "    openai.api_version = \"2023-09-15-preview\"\n",
    "    openai.api_key = os.getenv(\"OPENAI_API_KEY\")\n",
    "    openai.api_key = \"8a4a2a3d7af2430188ee31adcc298c45\"\n",
    "\n",
    "    if prompt_style == \"description\":\n",
    "        prompt_text = f\"Context: {observation}. Capture the main idea of these projects in a MAXIMUM of 6 words. `DO NOT PROVIDE ANY ADDITIONAL EXPLANATION OR DETAILS`. example\\n\\n Subsea Structure Characterization\"\n",
    "    elif prompt_style == \"question\":\n",
    "        prompt_text = f\"Context: {observation}. Create a short, unique question to ask about the following projects. `DO NOT PROVIDE ANY ADDITIONAL EXPLANATION OR DETAILS`. example\\n\\n Subsea Structure Characterization\"\n",
    "    else:\n",
    "        return f\"No prompt specified!\"\n",
    "\n",
    "\n",
    "    response = openai.Completion.create(\n",
    "        engine=\"gpt-35-turbo\",\n",
    "        prompt=prompt_text,\n",
    "        temperature=0,\n",
    "        max_tokens=9,\n",
    "        top_p=1,\n",
    "        frequency_penalty=1,\n",
    "        presence_penalty=0,\n",
    "        stop=None)\n",
    "\n",
    "    return response['choices'][0]['text']"
   ]
  },
  {
   "cell_type": "code",
   "execution_count": 14,
   "metadata": {},
   "outputs": [
    {
     "data": {
      "text/html": [
       "<div>\n",
       "<style scoped>\n",
       "    .dataframe tbody tr th:only-of-type {\n",
       "        vertical-align: middle;\n",
       "    }\n",
       "\n",
       "    .dataframe tbody tr th {\n",
       "        vertical-align: top;\n",
       "    }\n",
       "\n",
       "    .dataframe thead th {\n",
       "        text-align: right;\n",
       "    }\n",
       "</style>\n",
       "<table border=\"1\" class=\"dataframe\">\n",
       "  <thead>\n",
       "    <tr style=\"text-align: right;\">\n",
       "      <th></th>\n",
       "      <th>Selected</th>\n",
       "      <th>year</th>\n",
       "      <th>Abstract Title</th>\n",
       "      <th>Abstract Text (limit to 250 words)</th>\n",
       "      <th>Cluster Label</th>\n",
       "    </tr>\n",
       "  </thead>\n",
       "  <tbody>\n",
       "    <tr>\n",
       "      <th>0</th>\n",
       "      <td>Yes</td>\n",
       "      <td>2023</td>\n",
       "      <td>Scaling Aircraft-Based Methane Detection acros...</td>\n",
       "      <td>Methane emission reductions from the oil and g...</td>\n",
       "      <td>2</td>\n",
       "    </tr>\n",
       "    <tr>\n",
       "      <th>1</th>\n",
       "      <td>NaN</td>\n",
       "      <td>2023</td>\n",
       "      <td>Development and Deployment of Chevron's Fractu...</td>\n",
       "      <td>Embedded Discrete Fracture Modeling (EDFM) is ...</td>\n",
       "      <td>5</td>\n",
       "    </tr>\n",
       "    <tr>\n",
       "      <th>2</th>\n",
       "      <td>yes</td>\n",
       "      <td>2023</td>\n",
       "      <td>Hydrogen Must Win Technology Challenge linkage...</td>\n",
       "      <td>Chevron aims to leverage our strengths to deli...</td>\n",
       "      <td>2</td>\n",
       "    </tr>\n",
       "    <tr>\n",
       "      <th>3</th>\n",
       "      <td>Yes</td>\n",
       "      <td>2023</td>\n",
       "      <td>Leveraging the Digital Oilfield: Optimizing Op...</td>\n",
       "      <td>The Tech Center, in collaboration with PE and ...</td>\n",
       "      <td>4</td>\n",
       "    </tr>\n",
       "    <tr>\n",
       "      <th>4</th>\n",
       "      <td>NaN</td>\n",
       "      <td>2023</td>\n",
       "      <td>Leveraging Technology to Improve Hydraulic Fra...</td>\n",
       "      <td>Development and deployment of fit-for-purpose,...</td>\n",
       "      <td>1</td>\n",
       "    </tr>\n",
       "  </tbody>\n",
       "</table>\n",
       "</div>"
      ],
      "text/plain": [
       "  Selected  year                                     Abstract Title  \\\n",
       "0      Yes  2023  Scaling Aircraft-Based Methane Detection acros...   \n",
       "1      NaN  2023  Development and Deployment of Chevron's Fractu...   \n",
       "2      yes  2023  Hydrogen Must Win Technology Challenge linkage...   \n",
       "3      Yes  2023  Leveraging the Digital Oilfield: Optimizing Op...   \n",
       "4      NaN  2023  Leveraging Technology to Improve Hydraulic Fra...   \n",
       "\n",
       "                  Abstract Text (limit to 250 words)  Cluster Label  \n",
       "0  Methane emission reductions from the oil and g...              2  \n",
       "1  Embedded Discrete Fracture Modeling (EDFM) is ...              5  \n",
       "2  Chevron aims to leverage our strengths to deli...              2  \n",
       "3  The Tech Center, in collaboration with PE and ...              4  \n",
       "4  Development and deployment of fit-for-purpose,...              1  "
      ]
     },
     "execution_count": 14,
     "metadata": {},
     "output_type": "execute_result"
    }
   ],
   "source": [
    "df.head()"
   ]
  },
  {
   "cell_type": "code",
   "execution_count": 16,
   "metadata": {},
   "outputs": [
    {
     "data": {
      "text/html": [
       "<div>\n",
       "<style scoped>\n",
       "    .dataframe tbody tr th:only-of-type {\n",
       "        vertical-align: middle;\n",
       "    }\n",
       "\n",
       "    .dataframe tbody tr th {\n",
       "        vertical-align: top;\n",
       "    }\n",
       "\n",
       "    .dataframe thead th {\n",
       "        text-align: right;\n",
       "    }\n",
       "</style>\n",
       "<table border=\"1\" class=\"dataframe\">\n",
       "  <thead>\n",
       "    <tr style=\"text-align: right;\">\n",
       "      <th></th>\n",
       "      <th>Cluster Label</th>\n",
       "    </tr>\n",
       "  </thead>\n",
       "  <tbody>\n",
       "    <tr>\n",
       "      <th>0</th>\n",
       "      <td>0</td>\n",
       "    </tr>\n",
       "    <tr>\n",
       "      <th>1</th>\n",
       "      <td>1</td>\n",
       "    </tr>\n",
       "    <tr>\n",
       "      <th>2</th>\n",
       "      <td>2</td>\n",
       "    </tr>\n",
       "    <tr>\n",
       "      <th>3</th>\n",
       "      <td>3</td>\n",
       "    </tr>\n",
       "    <tr>\n",
       "      <th>4</th>\n",
       "      <td>4</td>\n",
       "    </tr>\n",
       "    <tr>\n",
       "      <th>5</th>\n",
       "      <td>5</td>\n",
       "    </tr>\n",
       "    <tr>\n",
       "      <th>6</th>\n",
       "      <td>6</td>\n",
       "    </tr>\n",
       "    <tr>\n",
       "      <th>7</th>\n",
       "      <td>7</td>\n",
       "    </tr>\n",
       "    <tr>\n",
       "      <th>8</th>\n",
       "      <td>8</td>\n",
       "    </tr>\n",
       "    <tr>\n",
       "      <th>9</th>\n",
       "      <td>9</td>\n",
       "    </tr>\n",
       "  </tbody>\n",
       "</table>\n",
       "</div>"
      ],
      "text/plain": [
       "   Cluster Label\n",
       "0              0\n",
       "1              1\n",
       "2              2\n",
       "3              3\n",
       "4              4\n",
       "5              5\n",
       "6              6\n",
       "7              7\n",
       "8              8\n",
       "9              9"
      ]
     },
     "execution_count": 16,
     "metadata": {},
     "output_type": "execute_result"
    }
   ],
   "source": [
    "\n",
    "# Create dataframe to house the results\n",
    "results = pd.DataFrame()\n",
    "results['Cluster Label'] = df['Cluster Label'].unique()\n",
    "# Sort and Reindex the df\n",
    "results.sort_values(by='Cluster Label', inplace=True, ignore_index=True)"
   ]
  },
  {
   "cell_type": "code",
   "execution_count": 12,
   "metadata": {},
   "outputs": [
    {
     "ename": "UnboundLocalError",
     "evalue": "local variable 'observation' referenced before assignment",
     "output_type": "error",
     "traceback": [
      "\u001b[1;31m---------------------------------------------------------------------------\u001b[0m",
      "\u001b[1;31mUnboundLocalError\u001b[0m                         Traceback (most recent call last)",
      "\u001b[1;32mc:\\Users\\hlmq\\code\\ClusterSummarizer\\cluster_and_summarize.ipynb Cell 18\u001b[0m line \u001b[0;36m5\n\u001b[0;32m      <a href='vscode-notebook-cell:/c%3A/Users/hlmq/code/ClusterSummarizer/cluster_and_summarize.ipynb#X23sZmlsZQ%3D%3D?line=2'>3</a>\u001b[0m cluster_label\u001b[39m=\u001b[39mi\n\u001b[0;32m      <a href='vscode-notebook-cell:/c%3A/Users/hlmq/code/ClusterSummarizer/cluster_and_summarize.ipynb#X23sZmlsZQ%3D%3D?line=3'>4</a>\u001b[0m \u001b[39m# Only keep top n observations\u001b[39;00m\n\u001b[1;32m----> <a href='vscode-notebook-cell:/c%3A/Users/hlmq/code/ClusterSummarizer/cluster_and_summarize.ipynb#X23sZmlsZQ%3D%3D?line=4'>5</a>\u001b[0m observation \u001b[39m=\u001b[39m select_obs_in_cluster(data\u001b[39m=\u001b[39;49mdf, cluster_label\u001b[39m=\u001b[39;49mcluster_label, n_samples\u001b[39m=\u001b[39;49m\u001b[39m4\u001b[39;49m)\n",
      "\u001b[1;32mc:\\Users\\hlmq\\code\\ClusterSummarizer\\cluster_and_summarize.ipynb Cell 18\u001b[0m line \u001b[0;36m2\n\u001b[0;32m     <a href='vscode-notebook-cell:/c%3A/Users/hlmq/code/ClusterSummarizer/cluster_and_summarize.ipynb#X23sZmlsZQ%3D%3D?line=21'>22</a>\u001b[0m \u001b[39melse\u001b[39;00m:\n\u001b[0;32m     <a href='vscode-notebook-cell:/c%3A/Users/hlmq/code/ClusterSummarizer/cluster_and_summarize.ipynb#X23sZmlsZQ%3D%3D?line=22'>23</a>\u001b[0m     \u001b[39m# Keep all obs if less than n_samples\u001b[39;00m\n\u001b[0;32m     <a href='vscode-notebook-cell:/c%3A/Users/hlmq/code/ClusterSummarizer/cluster_and_summarize.ipynb#X23sZmlsZQ%3D%3D?line=23'>24</a>\u001b[0m     temp_df \u001b[39m=\u001b[39m data\n\u001b[1;32m---> <a href='vscode-notebook-cell:/c%3A/Users/hlmq/code/ClusterSummarizer/cluster_and_summarize.ipynb#X23sZmlsZQ%3D%3D?line=25'>26</a>\u001b[0m \u001b[39mreturn\u001b[39;00m observation\n",
      "\u001b[1;31mUnboundLocalError\u001b[0m: local variable 'observation' referenced before assignment"
     ]
    }
   ],
   "source": [
    "### NOT WORKING YET\n",
    "for i in results['Cluster Label'].unique():\n",
    "    # Initialize cluster label value\n",
    "    cluster_label=i\n",
    "    # Only keep top n observations\n",
    "    observation = select_obs_in_cluster(data=df, cluster_label=cluster_label, n_samples=4)\n",
    "    # \n",
    "    results['Cluster Description'] = create_summary(observation=observation, prompt_style=\"description\")\n",
    "    results['Cluster Question'] = create_summary(observation=observation, prompt_style=\"question\")\n",
    "    \n"
   ]
  },
  {
   "cell_type": "markdown",
   "metadata": {},
   "source": [
    "## Visualize Plot"
   ]
  },
  {
   "cell_type": "code",
   "execution_count": 10,
   "metadata": {},
   "outputs": [
    {
     "name": "stderr",
     "output_type": "stream",
     "text": [
      "c:\\ProgramData\\Miniconda3\\envs\\nlp_cluster\\lib\\site-packages\\seaborn\\_decorators.py:36: FutureWarning: Pass the following variables as keyword args: x, y. From version 0.12, the only valid positional argument will be `data`, and passing other arguments without an explicit keyword will result in an error or misinterpretation.\n",
      "  warnings.warn(\n"
     ]
    },
    {
     "data": {
      "image/png": "[encoded data removed]",
      "text/plain": [
       "<Figure size 640x480 with 1 Axes>"
      ]
     },
     "metadata": {},
     "output_type": "display_data"
    }
   ],
   "source": [
    "p1 = sns.scatterplot(reduced_embeddings[:,0], reduced_embeddings[:,1], hue=df['Cluster Label'], legend='full', palette=\"bright\")\n",
    "\n",
    "for line in range(0,df.shape[0]):\n",
    "     p1.text(reduced_embeddings[:,0][line]+0.01, reduced_embeddings[:,1][line], \n",
    "     df['Cluster Label'][line],\n",
    "     horizontalalignment='right',\n",
    "     size='medium', \n",
    "     color='black', \n",
    "     weight='semibold')"
   ]
  },
  {
   "cell_type": "code",
   "execution_count": null,
   "metadata": {},
   "outputs": [],
   "source": []
  },
  {
   "cell_type": "markdown",
   "metadata": {},
   "source": [
    "## Appendix"
   ]
  },
  {
   "cell_type": "code",
   "execution_count": null,
   "metadata": {},
   "outputs": [],
   "source": [
    "# Filter df to the largest values in a column\n",
    "#temp_df = temp_df.nlargest(3, columns='Cluster Probability', keep='first')"
   ]
  },
  {
   "cell_type": "code",
   "execution_count": null,
   "metadata": {},
   "outputs": [],
   "source": []
  }
 ],
 "metadata": {
  "kernelspec": {
   "display_name": "nlp_cluster",
   "language": "python",
   "name": "python3"
  },
  "language_info": {
   "codemirror_mode": {
    "name": "ipython",
    "version": 3
   },
   "file_extension": ".py",
   "mimetype": "text/x-python",
   "name": "python",
   "nbconvert_exporter": "python",
   "pygments_lexer": "ipython3",
   "version": "3.9.5"
  }
 },
 "nbformat": 4,
 "nbformat_minor": 2
}
